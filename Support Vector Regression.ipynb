{
 "cells": [
  {
   "cell_type": "code",
   "execution_count": 50,
   "id": "3b5576c8-19db-457a-859c-525cdcd99077",
   "metadata": {},
   "outputs": [],
   "source": [
    "from pathlib import Path\n",
    "\n",
    "import numpy as np\n",
    "import pandas as pd\n",
    "import joblib\n",
    "from sklearn.preprocessing import FunctionTransformer\n",
    "from sklearn.preprocessing import OneHotEncoder\n",
    "from sklearn.impute import KNNImputer\n",
    "from sklearn.pipeline import make_pipeline\n",
    "from sklearn.compose import ColumnTransformer\n",
    "from sklearn.svm import SVR\n",
    "from sklearn.preprocessing import StandardScaler\n",
    "from sklearn.model_selection import RandomizedSearchCV\n",
    "\n",
    "\n",
    "def _encode_dates(X):\n",
    "    X = X.copy()  # modify a copy of X\n",
    "    # Encode the date information from the DateOfDeparture columns\n",
    "    X.loc[:, \"year\"] = X[\"date\"].dt.year\n",
    "    X.loc[:, \"month\"] = X[\"date\"].dt.month\n",
    "    X.loc[:, \"day\"] = X[\"date\"].dt.day\n",
    "    X.loc[:, \"weekday\"] = X[\"date\"].dt.weekday\n",
    "    X.loc[:, \"hour\"] = X[\"date\"].dt.hour\n",
    "\n",
    "    # Finally we can drop the original columns from the dataframe\n",
    "    return X.drop(columns=[\"date\"])\n",
    "\n",
    "\n",
    "def _merge_external_data(X):\n",
    "    file_path = \"external_data.csv\"\n",
    "    df_ext = pd.read_csv(file_path, parse_dates=[\"date\"])\n",
    "\n",
    "    X_comb = X.join(df_ext.set_index(\"date\"), on=\"date\", rsuffix=\"right\") \n",
    "    X_comb.fillna(method=\"ffill\", inplace=True)\n",
    "    \n",
    "    return X_comb.drop([\"Unnamed: 0\", \"date_only\"], axis=1)\n",
    "\n",
    "\n",
    "def get_estimator():\n",
    "    date_encoder = FunctionTransformer(_encode_dates)\n",
    "    #imputer = KNNImputer(n_neighbors=3, add_indicator=True)\n",
    "    date_cols = ['year', 'month', 'day', 'weekday', 'hour']\n",
    "\n",
    "    categorical_encoder = OneHotEncoder(handle_unknown=\"ignore\")\n",
    "    categorical_cols = [\"counter_name\", \"site_name\", \"wind_dir\"]\n",
    "    numerical_cols = ['site_id', 'latitude', 'longitude', 'Temperature (C)', 'wind_speed',\n",
    "                    'Humidity', 'Visibility', 'pressure1', \"Precipitation\", \"sunshine_time\",\n",
    "                     \"suntime\", \"new_cases\"]\n",
    "     \n",
    "    \n",
    "    preprocessor = ColumnTransformer(\n",
    "        [\n",
    "            (\"date\", OneHotEncoder(handle_unknown=\"ignore\"), date_cols),\n",
    "            (\"cat\", categorical_encoder, categorical_cols),\n",
    "            (\"scaler\", StandardScaler(), numerical_cols)\n",
    "        ]\n",
    "    )\n",
    "\n",
    "    \n",
    "    regressor = SVR()\n",
    "    \n",
    "    params = {\n",
    "        \"C\": np.arange(1,5),\n",
    "        \"gamma\": [\"scale\", \"auto\"],\n",
    "        \"epsilon\": np.linspace(0.05,0.2, 4)\n",
    "    }\n",
    "    print(regressor.get_params().keys())\n",
    "    search = RandomizedSearchCV(regressor, \n",
    "                               param_distributions=params,\n",
    "                               scoring='neg_mean_squared_error', \n",
    "                               verbose=10,\n",
    "                               )\n",
    "\n",
    "    pipe = make_pipeline(\n",
    "            FunctionTransformer(_merge_external_data, validate=False),\n",
    "            date_encoder,\n",
    "            #imputer,\n",
    "            preprocessor, \n",
    "            search)\n",
    "    \n",
    "    return pipe\n",
    "\n"
   ]
  },
  {
   "cell_type": "code",
   "execution_count": null,
   "id": "733f4ac6-4342-4ea6-9ec1-e5d92902308b",
   "metadata": {},
   "outputs": [],
   "source": []
  },
  {
   "cell_type": "code",
   "execution_count": 51,
   "id": "7d6ad29b-8205-45b4-84ac-a2462af3602b",
   "metadata": {},
   "outputs": [],
   "source": [
    "import problem\n",
    "\n",
    "X_train, y_train = problem.get_train_data()\n",
    "X_test, y_test = problem.get_test_data()"
   ]
  },
  {
   "cell_type": "code",
   "execution_count": null,
   "id": "a8c3aeb9-2205-47c8-b00c-7a826c612910",
   "metadata": {},
   "outputs": [
    {
     "name": "stdout",
     "output_type": "stream",
     "text": [
      "dict_keys(['C', 'cache_size', 'coef0', 'degree', 'epsilon', 'gamma', 'kernel', 'max_iter', 'shrinking', 'tol', 'verbose'])\n",
      "Fitting 5 folds for each of 10 candidates, totalling 50 fits\n",
      "[CV 1/5; 1/10] START C=2, epsilon=0.1, gamma=scale..............................\n"
     ]
    }
   ],
   "source": [
    "X_train_comb = _merge_external_data(X_train)\n",
    "pipe = get_estimator()\n",
    "pipe.fit(X_train_comb, y_train)"
   ]
  },
  {
   "cell_type": "code",
   "execution_count": 13,
   "id": "b58ae7be-c0c6-4085-b18a-505b037ff63f",
   "metadata": {},
   "outputs": [],
   "source": [
    "file_path = \"external_data.csv\"\n",
    "df_ext = pd.read_csv(file_path, parse_dates=[\"date\"])\n",
    "\n",
    "X_comb = X_train.join(df_ext.set_index(\"date\"), on=\"date\") \n"
   ]
  },
  {
   "cell_type": "code",
   "execution_count": 24,
   "id": "27c21505-b607-4a6e-a203-c03b7c413b66",
   "metadata": {},
   "outputs": [
    {
     "data": {
      "text/plain": [
       "['Unnamed: 0',\n",
       " 'Temperature (C)',\n",
       " 'wind_dir',\n",
       " 'wind_speed',\n",
       " 'Humidity',\n",
       " 'Visibility',\n",
       " 'Precipitation',\n",
       " 'pressure1',\n",
       " 'sunshine_time',\n",
       " 'suntime',\n",
       " 'new_cases',\n",
       " 'date_only',\n",
       " 'holidays2']"
      ]
     },
     "execution_count": 24,
     "metadata": {},
     "output_type": "execute_result"
    }
   ],
   "source": [
    "X_comb.columns[X_comb.isna().any()].tolist()"
   ]
  }
 ],
 "metadata": {
  "kernelspec": {
   "display_name": "Python 3 (ipykernel)",
   "language": "python",
   "name": "python3"
  },
  "language_info": {
   "codemirror_mode": {
    "name": "ipython",
    "version": 3
   },
   "file_extension": ".py",
   "mimetype": "text/x-python",
   "name": "python",
   "nbconvert_exporter": "python",
   "pygments_lexer": "ipython3",
   "version": "3.9.12"
  }
 },
 "nbformat": 4,
 "nbformat_minor": 5
}
