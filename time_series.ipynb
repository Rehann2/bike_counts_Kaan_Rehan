{
 "cells": [
  {
   "cell_type": "markdown",
   "id": "f46e9563-f2f6-4ccc-8d3f-85f631257d95",
   "metadata": {},
   "source": [
    "# Time Series Modelling\n",
    "I can manually put the lagged variables in the features and then mask the ones for the k values of the model.\n",
    "Will this work? Parameters are trained for all the values but we might need seperate parameters for each.\n",
    "\n",
    "- It will not work. To train ARIMA, I need different parameter trineers for each model which is incredibly expensive computationally. We an try a linear approach which might be faster\n",
    "- Global XGBoost might work\n",
    "    - Boosting is an ensemble technique where new models are added to correct the errors made by existing models. Models are added sequentially until no further improvements can be made. \n",
    "    - Gradient boosting is an approach where new models are created that predict the residuals or errors of prior models and then added together to make the final prediction. It is called gradient boosting because it uses a gradient descent algorithm to minimize the loss when adding new models."
   ]
  },
  {
   "cell_type": "code",
   "execution_count": 3,
   "id": "f895be18-9a93-4351-817d-7de8bcd06eea",
   "metadata": {},
   "outputs": [],
   "source": [
    "import pandas as pd\n",
    "from pathlib import Path\n"
   ]
  },
  {
   "cell_type": "code",
   "execution_count": null,
   "id": "f9f8ebe2-ccad-4856-ba75-666e7c93b4b4",
   "metadata": {},
   "outputs": [],
   "source": []
  },
  {
   "cell_type": "code",
   "execution_count": null,
   "id": "822628b7-6efe-4fb5-b653-7b9287437d6b",
   "metadata": {},
   "outputs": [],
   "source": []
  },
  {
   "cell_type": "code",
   "execution_count": 4,
   "id": "4e72f9ea-8019-4a39-9416-deb9e8da74e3",
   "metadata": {},
   "outputs": [],
   "source": [
    "data = pd.read_parquet(Path(\"data\") / \"train.parquet\")\n",
    "external_data = pd.read_csv(\"external_data.csv\")"
   ]
  },
  {
   "cell_type": "code",
   "execution_count": null,
   "id": "1da2a1d5-d03b-4973-9f7c-1e96cb628962",
   "metadata": {},
   "outputs": [],
   "source": [
    "def merge_external_data(main_data, external_data):\n",
    "    data = main_data.join(external_data.set_index(\"date\"), on=\"date\") \n",
    "    \n",
    "    \n",
    "    return data    "
   ]
  }
 ],
 "metadata": {
  "kernelspec": {
   "display_name": "Python 3 (ipykernel)",
   "language": "python",
   "name": "python3"
  },
  "language_info": {
   "codemirror_mode": {
    "name": "ipython",
    "version": 3
   },
   "file_extension": ".py",
   "mimetype": "text/x-python",
   "name": "python",
   "nbconvert_exporter": "python",
   "pygments_lexer": "ipython3",
   "version": "3.9.12"
  }
 },
 "nbformat": 4,
 "nbformat_minor": 5
}
