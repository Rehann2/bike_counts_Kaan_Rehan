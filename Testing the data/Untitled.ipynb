{
 "cells": [
  {
   "cell_type": "code",
   "execution_count": 141,
   "id": "ead7da09-8f30-40b1-8ea2-886b97586939",
   "metadata": {},
   "outputs": [
    {
     "name": "stdout",
     "output_type": "stream",
     "text": [
      "['.ipynb_checkpoints', 'data.csv', 'data.xlsx', 'external_data.csv', 'ext_data.csv', 'submission_14101', 'Untitled.ipynb']\n"
     ]
    }
   ],
   "source": [
    "import os\n",
    "import pandas as pd\n",
    "os.chdir(\"C:\\\\Users\\\\Dell\\\\Python Class DSB\\\\bike_counts_Kaan_Rehan\\Testing the data\")\n",
    "print(os.listdir())\n",
    "df = pd.read_csv(\"external_data.csv\")\n",
    "df2 = pd.read_csv(\"ext_data.csv\")"
   ]
  },
  {
   "cell_type": "code",
   "execution_count": 142,
   "id": "04b41ef8-5dba-491f-9695-6ada0b411416",
   "metadata": {},
   "outputs": [
    {
     "data": {
      "text/plain": [
       "Index(['Unnamed: 0', 'date', 'Temperature (C)', 'wind_dir', 'wind_speed',\n",
       "       'Humidity', 'Visibility', 'Precipitation', 'pressure1', 'sunshine_time',\n",
       "       'suntime', 'new_cases'],\n",
       "      dtype='object')"
      ]
     },
     "execution_count": 142,
     "metadata": {},
     "output_type": "execute_result"
    }
   ],
   "source": [
    "df.columns"
   ]
  },
  {
   "cell_type": "code",
   "execution_count": 143,
   "id": "3ace5db4-3272-4994-915a-1d4ff71d4709",
   "metadata": {},
   "outputs": [
    {
     "data": {
      "text/plain": [
       "Index(['Unnamed: 0', 'date', 'Temperature (C)', 'wind_dir', 'wind_speed',\n",
       "       'Humidity', 'Visibility', 'Precipitation', 'pressure1', 'sunshine_time',\n",
       "       'suntime', 'date_only', 'new_cases'],\n",
       "      dtype='object')"
      ]
     },
     "execution_count": 143,
     "metadata": {},
     "output_type": "execute_result"
    }
   ],
   "source": [
    "df2.columns"
   ]
  },
  {
   "cell_type": "code",
   "execution_count": 144,
   "id": "d104fe5c-fffb-4e46-a5ba-ca83965ad784",
   "metadata": {},
   "outputs": [
    {
     "data": {
      "text/plain": [
       "((11554, 12), (11557, 13))"
      ]
     },
     "execution_count": 144,
     "metadata": {},
     "output_type": "execute_result"
    }
   ],
   "source": [
    "df.shape, df2.shape"
   ]
  },
  {
   "cell_type": "code",
   "execution_count": 145,
   "id": "e7dee3aa-fc1d-429d-96ad-869497d8ce57",
   "metadata": {},
   "outputs": [
    {
     "data": {
      "text/html": [
       "<div>\n",
       "<style scoped>\n",
       "    .dataframe tbody tr th:only-of-type {\n",
       "        vertical-align: middle;\n",
       "    }\n",
       "\n",
       "    .dataframe tbody tr th {\n",
       "        vertical-align: top;\n",
       "    }\n",
       "\n",
       "    .dataframe thead th {\n",
       "        text-align: right;\n",
       "    }\n",
       "</style>\n",
       "<table border=\"1\" class=\"dataframe\">\n",
       "  <thead>\n",
       "    <tr style=\"text-align: right;\">\n",
       "      <th></th>\n",
       "      <th>Unnamed: 0</th>\n",
       "      <th>date</th>\n",
       "      <th>Temperature (C)</th>\n",
       "      <th>wind_dir</th>\n",
       "      <th>wind_speed</th>\n",
       "      <th>Humidity</th>\n",
       "      <th>Visibility</th>\n",
       "      <th>Precipitation</th>\n",
       "      <th>pressure1</th>\n",
       "      <th>sunshine_time</th>\n",
       "      <th>suntime</th>\n",
       "      <th>new_cases</th>\n",
       "    </tr>\n",
       "  </thead>\n",
       "  <tbody>\n",
       "    <tr>\n",
       "      <th>0</th>\n",
       "      <td>0</td>\n",
       "      <td>01-09-2020 23:00</td>\n",
       "      <td>14.9</td>\n",
       "      <td>NNE</td>\n",
       "      <td>5.6</td>\n",
       "      <td>63</td>\n",
       "      <td>20.0</td>\n",
       "      <td>0</td>\n",
       "      <td>1019.1</td>\n",
       "      <td>21960</td>\n",
       "      <td>48255</td>\n",
       "      <td>5104</td>\n",
       "    </tr>\n",
       "    <tr>\n",
       "      <th>1</th>\n",
       "      <td>1</td>\n",
       "      <td>01-09-2020 22:00</td>\n",
       "      <td>15.2</td>\n",
       "      <td>NNE</td>\n",
       "      <td>5.6</td>\n",
       "      <td>59</td>\n",
       "      <td>20.0</td>\n",
       "      <td>0</td>\n",
       "      <td>1019.0</td>\n",
       "      <td>21960</td>\n",
       "      <td>48255</td>\n",
       "      <td>5104</td>\n",
       "    </tr>\n",
       "    <tr>\n",
       "      <th>2</th>\n",
       "      <td>2</td>\n",
       "      <td>01-09-2020 21:00</td>\n",
       "      <td>16.4</td>\n",
       "      <td>NE</td>\n",
       "      <td>7.4</td>\n",
       "      <td>52</td>\n",
       "      <td>20.0</td>\n",
       "      <td>0</td>\n",
       "      <td>1018.9</td>\n",
       "      <td>21960</td>\n",
       "      <td>48255</td>\n",
       "      <td>5104</td>\n",
       "    </tr>\n",
       "    <tr>\n",
       "      <th>3</th>\n",
       "      <td>3</td>\n",
       "      <td>01-09-2020 20:00</td>\n",
       "      <td>17.1</td>\n",
       "      <td>NNE</td>\n",
       "      <td>7.4</td>\n",
       "      <td>49</td>\n",
       "      <td>20.0</td>\n",
       "      <td>0</td>\n",
       "      <td>1018.5</td>\n",
       "      <td>21960</td>\n",
       "      <td>48255</td>\n",
       "      <td>5104</td>\n",
       "    </tr>\n",
       "    <tr>\n",
       "      <th>4</th>\n",
       "      <td>4</td>\n",
       "      <td>01-09-2020 19:00</td>\n",
       "      <td>18.5</td>\n",
       "      <td>NNE</td>\n",
       "      <td>5.6</td>\n",
       "      <td>46</td>\n",
       "      <td>20.0</td>\n",
       "      <td>0</td>\n",
       "      <td>1017.9</td>\n",
       "      <td>21960</td>\n",
       "      <td>48255</td>\n",
       "      <td>5104</td>\n",
       "    </tr>\n",
       "  </tbody>\n",
       "</table>\n",
       "</div>"
      ],
      "text/plain": [
       "   Unnamed: 0              date  Temperature (C) wind_dir  wind_speed  \\\n",
       "0           0  01-09-2020 23:00             14.9      NNE         5.6   \n",
       "1           1  01-09-2020 22:00             15.2      NNE         5.6   \n",
       "2           2  01-09-2020 21:00             16.4       NE         7.4   \n",
       "3           3  01-09-2020 20:00             17.1      NNE         7.4   \n",
       "4           4  01-09-2020 19:00             18.5      NNE         5.6   \n",
       "\n",
       "   Humidity  Visibility  Precipitation  pressure1  sunshine_time  suntime  \\\n",
       "0        63        20.0              0     1019.1          21960    48255   \n",
       "1        59        20.0              0     1019.0          21960    48255   \n",
       "2        52        20.0              0     1018.9          21960    48255   \n",
       "3        49        20.0              0     1018.5          21960    48255   \n",
       "4        46        20.0              0     1017.9          21960    48255   \n",
       "\n",
       "   new_cases  \n",
       "0       5104  \n",
       "1       5104  \n",
       "2       5104  \n",
       "3       5104  \n",
       "4       5104  "
      ]
     },
     "execution_count": 145,
     "metadata": {},
     "output_type": "execute_result"
    }
   ],
   "source": [
    "df.head()"
   ]
  },
  {
   "cell_type": "code",
   "execution_count": 146,
   "id": "7032e1ef-6d9b-4d7d-befa-394e7b957f4b",
   "metadata": {},
   "outputs": [
    {
     "data": {
      "text/html": [
       "<div>\n",
       "<style scoped>\n",
       "    .dataframe tbody tr th:only-of-type {\n",
       "        vertical-align: middle;\n",
       "    }\n",
       "\n",
       "    .dataframe tbody tr th {\n",
       "        vertical-align: top;\n",
       "    }\n",
       "\n",
       "    .dataframe thead th {\n",
       "        text-align: right;\n",
       "    }\n",
       "</style>\n",
       "<table border=\"1\" class=\"dataframe\">\n",
       "  <thead>\n",
       "    <tr style=\"text-align: right;\">\n",
       "      <th></th>\n",
       "      <th>Unnamed: 0</th>\n",
       "      <th>date</th>\n",
       "      <th>Temperature (C)</th>\n",
       "      <th>wind_dir</th>\n",
       "      <th>wind_speed</th>\n",
       "      <th>Humidity</th>\n",
       "      <th>Visibility</th>\n",
       "      <th>Precipitation</th>\n",
       "      <th>pressure1</th>\n",
       "      <th>sunshine_time</th>\n",
       "      <th>suntime</th>\n",
       "      <th>date_only</th>\n",
       "      <th>new_cases</th>\n",
       "    </tr>\n",
       "  </thead>\n",
       "  <tbody>\n",
       "    <tr>\n",
       "      <th>0</th>\n",
       "      <td>0</td>\n",
       "      <td>2020-09-01 23:00:00</td>\n",
       "      <td>14.9</td>\n",
       "      <td>NNE</td>\n",
       "      <td>5.6</td>\n",
       "      <td>63.0</td>\n",
       "      <td>20.0</td>\n",
       "      <td>0</td>\n",
       "      <td>1019.1</td>\n",
       "      <td>21960.0</td>\n",
       "      <td>48255.0</td>\n",
       "      <td>2020-09-01</td>\n",
       "      <td>5104.0</td>\n",
       "    </tr>\n",
       "    <tr>\n",
       "      <th>1</th>\n",
       "      <td>1</td>\n",
       "      <td>2020-09-01 22:00:00</td>\n",
       "      <td>15.2</td>\n",
       "      <td>NNE</td>\n",
       "      <td>5.6</td>\n",
       "      <td>59.0</td>\n",
       "      <td>20.0</td>\n",
       "      <td>0</td>\n",
       "      <td>1019.0</td>\n",
       "      <td>21960.0</td>\n",
       "      <td>48255.0</td>\n",
       "      <td>2020-09-01</td>\n",
       "      <td>5104.0</td>\n",
       "    </tr>\n",
       "    <tr>\n",
       "      <th>2</th>\n",
       "      <td>2</td>\n",
       "      <td>2020-09-01 21:00:00</td>\n",
       "      <td>16.4</td>\n",
       "      <td>NE</td>\n",
       "      <td>7.4</td>\n",
       "      <td>52.0</td>\n",
       "      <td>20.0</td>\n",
       "      <td>0</td>\n",
       "      <td>1018.9</td>\n",
       "      <td>21960.0</td>\n",
       "      <td>48255.0</td>\n",
       "      <td>2020-09-01</td>\n",
       "      <td>5104.0</td>\n",
       "    </tr>\n",
       "    <tr>\n",
       "      <th>3</th>\n",
       "      <td>3</td>\n",
       "      <td>2020-09-01 20:00:00</td>\n",
       "      <td>17.1</td>\n",
       "      <td>NNE</td>\n",
       "      <td>7.4</td>\n",
       "      <td>49.0</td>\n",
       "      <td>20.0</td>\n",
       "      <td>0</td>\n",
       "      <td>1018.5</td>\n",
       "      <td>21960.0</td>\n",
       "      <td>48255.0</td>\n",
       "      <td>2020-09-01</td>\n",
       "      <td>5104.0</td>\n",
       "    </tr>\n",
       "    <tr>\n",
       "      <th>4</th>\n",
       "      <td>4</td>\n",
       "      <td>2020-09-01 19:00:00</td>\n",
       "      <td>18.5</td>\n",
       "      <td>NNE</td>\n",
       "      <td>5.6</td>\n",
       "      <td>46.0</td>\n",
       "      <td>20.0</td>\n",
       "      <td>0</td>\n",
       "      <td>1017.9</td>\n",
       "      <td>21960.0</td>\n",
       "      <td>48255.0</td>\n",
       "      <td>2020-09-01</td>\n",
       "      <td>5104.0</td>\n",
       "    </tr>\n",
       "  </tbody>\n",
       "</table>\n",
       "</div>"
      ],
      "text/plain": [
       "   Unnamed: 0                 date  Temperature (C) wind_dir  wind_speed  \\\n",
       "0           0  2020-09-01 23:00:00             14.9      NNE         5.6   \n",
       "1           1  2020-09-01 22:00:00             15.2      NNE         5.6   \n",
       "2           2  2020-09-01 21:00:00             16.4       NE         7.4   \n",
       "3           3  2020-09-01 20:00:00             17.1      NNE         7.4   \n",
       "4           4  2020-09-01 19:00:00             18.5      NNE         5.6   \n",
       "\n",
       "   Humidity  Visibility  Precipitation  pressure1  sunshine_time  suntime  \\\n",
       "0      63.0        20.0              0     1019.1        21960.0  48255.0   \n",
       "1      59.0        20.0              0     1019.0        21960.0  48255.0   \n",
       "2      52.0        20.0              0     1018.9        21960.0  48255.0   \n",
       "3      49.0        20.0              0     1018.5        21960.0  48255.0   \n",
       "4      46.0        20.0              0     1017.9        21960.0  48255.0   \n",
       "\n",
       "    date_only  new_cases  \n",
       "0  2020-09-01     5104.0  \n",
       "1  2020-09-01     5104.0  \n",
       "2  2020-09-01     5104.0  \n",
       "3  2020-09-01     5104.0  \n",
       "4  2020-09-01     5104.0  "
      ]
     },
     "execution_count": 146,
     "metadata": {},
     "output_type": "execute_result"
    }
   ],
   "source": [
    "df2.head()"
   ]
  },
  {
   "cell_type": "code",
   "execution_count": 147,
   "id": "69265e72-5e0a-407e-8b2e-9fdc61f7ccfb",
   "metadata": {},
   "outputs": [
    {
     "data": {
      "text/plain": [
       "Unnamed: 0           int64\n",
       "date                object\n",
       "Temperature (C)    float64\n",
       "wind_dir            object\n",
       "wind_speed         float64\n",
       "Humidity             int64\n",
       "Visibility         float64\n",
       "Precipitation        int64\n",
       "pressure1          float64\n",
       "sunshine_time        int64\n",
       "suntime              int64\n",
       "new_cases            int64\n",
       "dtype: object"
      ]
     },
     "execution_count": 147,
     "metadata": {},
     "output_type": "execute_result"
    }
   ],
   "source": [
    "df.dtypes"
   ]
  },
  {
   "cell_type": "code",
   "execution_count": 148,
   "id": "70d15206-7f58-4622-acec-26be2a146c78",
   "metadata": {},
   "outputs": [
    {
     "data": {
      "text/plain": [
       "Unnamed: 0           int64\n",
       "date                object\n",
       "Temperature (C)    float64\n",
       "wind_dir            object\n",
       "wind_speed         float64\n",
       "Humidity           float64\n",
       "Visibility         float64\n",
       "Precipitation        int64\n",
       "pressure1          float64\n",
       "sunshine_time      float64\n",
       "suntime            float64\n",
       "date_only           object\n",
       "new_cases          float64\n",
       "dtype: object"
      ]
     },
     "execution_count": 148,
     "metadata": {},
     "output_type": "execute_result"
    }
   ],
   "source": [
    "df2.dtypes"
   ]
  },
  {
   "cell_type": "code",
   "execution_count": 149,
   "id": "5889f151-bacb-4aae-9158-ca6ec81a8636",
   "metadata": {},
   "outputs": [
    {
     "data": {
      "text/plain": [
       "(Unnamed: 0                  int64\n",
       " date               datetime64[ns]\n",
       " Temperature (C)           float64\n",
       " wind_dir                   object\n",
       " wind_speed                float64\n",
       " Humidity                    int64\n",
       " Visibility                float64\n",
       " Precipitation               int64\n",
       " pressure1                 float64\n",
       " sunshine_time               int64\n",
       " suntime                     int64\n",
       " new_cases                   int64\n",
       " dtype: object,\n",
       " Unnamed: 0                  int64\n",
       " date               datetime64[ns]\n",
       " Temperature (C)           float64\n",
       " wind_dir                   object\n",
       " wind_speed                float64\n",
       " Humidity                  float64\n",
       " Visibility                float64\n",
       " Precipitation               int64\n",
       " pressure1                 float64\n",
       " sunshine_time             float64\n",
       " suntime                   float64\n",
       " date_only                  object\n",
       " new_cases                 float64\n",
       " dtype: object)"
      ]
     },
     "execution_count": 149,
     "metadata": {},
     "output_type": "execute_result"
    }
   ],
   "source": [
    "df2[\"date\"] = pd.to_datetime(df2.date, format=\"%Y-%m-%d %H:%M:%S\")\n",
    "df[\"date\"] = pd.to_datetime(df.date, format=\"%d-%m-%Y %H:%M\")\n",
    "df.dtypes, df2.dtypes\n"
   ]
  },
  {
   "cell_type": "code",
   "execution_count": 150,
   "id": "f0a21b50-c9d2-4e8f-a52d-b8025f69c8c8",
   "metadata": {},
   "outputs": [
    {
     "data": {
      "text/plain": [
       "Timestamp('2020-09-01 23:00:00')"
      ]
     },
     "execution_count": 150,
     "metadata": {},
     "output_type": "execute_result"
    }
   ],
   "source": [
    "val = df2[df2.date.duplicated()].date.iloc[0]\n",
    "exists = df2.date.iloc[0]\n",
    "pd.to_datetime(exists)"
   ]
  },
  {
   "cell_type": "code",
   "execution_count": 151,
   "id": "734bdd34-9007-483e-8d29-e4c1378314e5",
   "metadata": {},
   "outputs": [
    {
     "data": {
      "text/html": [
       "<div>\n",
       "<style scoped>\n",
       "    .dataframe tbody tr th:only-of-type {\n",
       "        vertical-align: middle;\n",
       "    }\n",
       "\n",
       "    .dataframe tbody tr th {\n",
       "        vertical-align: top;\n",
       "    }\n",
       "\n",
       "    .dataframe thead th {\n",
       "        text-align: right;\n",
       "    }\n",
       "</style>\n",
       "<table border=\"1\" class=\"dataframe\">\n",
       "  <thead>\n",
       "    <tr style=\"text-align: right;\">\n",
       "      <th></th>\n",
       "      <th>Unnamed: 0</th>\n",
       "      <th>date</th>\n",
       "      <th>Temperature (C)</th>\n",
       "      <th>wind_dir</th>\n",
       "      <th>wind_speed</th>\n",
       "      <th>Humidity</th>\n",
       "      <th>Visibility</th>\n",
       "      <th>Precipitation</th>\n",
       "      <th>pressure1</th>\n",
       "      <th>sunshine_time</th>\n",
       "      <th>suntime</th>\n",
       "      <th>new_cases</th>\n",
       "    </tr>\n",
       "  </thead>\n",
       "  <tbody>\n",
       "    <tr>\n",
       "      <th>4907</th>\n",
       "      <td>4907</td>\n",
       "      <td>2021-03-28 03:00:00</td>\n",
       "      <td>7.2</td>\n",
       "      <td>SO</td>\n",
       "      <td>5.6</td>\n",
       "      <td>70</td>\n",
       "      <td>20.0</td>\n",
       "      <td>0</td>\n",
       "      <td>1029.1</td>\n",
       "      <td>39240</td>\n",
       "      <td>45550</td>\n",
       "      <td>37119</td>\n",
       "    </tr>\n",
       "  </tbody>\n",
       "</table>\n",
       "</div>"
      ],
      "text/plain": [
       "      Unnamed: 0                date  Temperature (C) wind_dir  wind_speed  \\\n",
       "4907        4907 2021-03-28 03:00:00              7.2       SO         5.6   \n",
       "\n",
       "      Humidity  Visibility  Precipitation  pressure1  sunshine_time  suntime  \\\n",
       "4907        70        20.0              0     1029.1          39240    45550   \n",
       "\n",
       "      new_cases  \n",
       "4907      37119  "
      ]
     },
     "execution_count": 151,
     "metadata": {},
     "output_type": "execute_result"
    }
   ],
   "source": [
    "df[df.date == pd.to_datetime(val)]"
   ]
  },
  {
   "cell_type": "code",
   "execution_count": 152,
   "id": "9bcb47e8-0867-4658-a8c1-a06184e263a1",
   "metadata": {},
   "outputs": [
    {
     "data": {
      "text/plain": [
       "0        True\n",
       "1        True\n",
       "2        True\n",
       "3        True\n",
       "4        True\n",
       "         ... \n",
       "11549    True\n",
       "11550    True\n",
       "11551    True\n",
       "11552    True\n",
       "11553    True\n",
       "Name: date, Length: 11554, dtype: bool"
      ]
     },
     "execution_count": 152,
     "metadata": {},
     "output_type": "execute_result"
    }
   ],
   "source": [
    "df.date.isin(df2.date)"
   ]
  },
  {
   "cell_type": "code",
   "execution_count": 153,
   "id": "0d709cdb-8124-475a-a88e-a7683bf7562c",
   "metadata": {},
   "outputs": [
    {
     "data": {
      "text/plain": [
       "Unnamed: 0                  int64\n",
       "date               datetime64[ns]\n",
       "Temperature (C)           float64\n",
       "wind_dir                   object\n",
       "wind_speed                float64\n",
       "Humidity                  float64\n",
       "Visibility                float64\n",
       "Precipitation               int64\n",
       "pressure1                 float64\n",
       "sunshine_time             float64\n",
       "suntime                   float64\n",
       "date_only                  object\n",
       "new_cases                 float64\n",
       "dtype: object"
      ]
     },
     "execution_count": 153,
     "metadata": {},
     "output_type": "execute_result"
    }
   ],
   "source": [
    "df2.dtypes"
   ]
  },
  {
   "cell_type": "code",
   "execution_count": 154,
   "id": "373c2002-eaaa-46af-9a87-15def0c794eb",
   "metadata": {},
   "outputs": [
    {
     "data": {
      "text/html": [
       "<div>\n",
       "<style scoped>\n",
       "    .dataframe tbody tr th:only-of-type {\n",
       "        vertical-align: middle;\n",
       "    }\n",
       "\n",
       "    .dataframe tbody tr th {\n",
       "        vertical-align: top;\n",
       "    }\n",
       "\n",
       "    .dataframe thead th {\n",
       "        text-align: right;\n",
       "    }\n",
       "</style>\n",
       "<table border=\"1\" class=\"dataframe\">\n",
       "  <thead>\n",
       "    <tr style=\"text-align: right;\">\n",
       "      <th></th>\n",
       "      <th>Unnamed: 0</th>\n",
       "      <th>date</th>\n",
       "      <th>Temperature (C)</th>\n",
       "      <th>wind_dir</th>\n",
       "      <th>wind_speed</th>\n",
       "      <th>Humidity</th>\n",
       "      <th>Visibility</th>\n",
       "      <th>Precipitation</th>\n",
       "      <th>pressure1</th>\n",
       "      <th>sunshine_time</th>\n",
       "      <th>suntime</th>\n",
       "      <th>new_cases</th>\n",
       "    </tr>\n",
       "  </thead>\n",
       "  <tbody>\n",
       "    <tr>\n",
       "      <th>0</th>\n",
       "      <td>0</td>\n",
       "      <td>2020-09-01 23:00:00</td>\n",
       "      <td>14.9</td>\n",
       "      <td>NNE</td>\n",
       "      <td>5.6</td>\n",
       "      <td>63</td>\n",
       "      <td>20.0</td>\n",
       "      <td>0</td>\n",
       "      <td>1019.1</td>\n",
       "      <td>21960</td>\n",
       "      <td>48255</td>\n",
       "      <td>5104</td>\n",
       "    </tr>\n",
       "    <tr>\n",
       "      <th>1</th>\n",
       "      <td>1</td>\n",
       "      <td>2020-09-01 22:00:00</td>\n",
       "      <td>15.2</td>\n",
       "      <td>NNE</td>\n",
       "      <td>5.6</td>\n",
       "      <td>59</td>\n",
       "      <td>20.0</td>\n",
       "      <td>0</td>\n",
       "      <td>1019.0</td>\n",
       "      <td>21960</td>\n",
       "      <td>48255</td>\n",
       "      <td>5104</td>\n",
       "    </tr>\n",
       "    <tr>\n",
       "      <th>2</th>\n",
       "      <td>2</td>\n",
       "      <td>2020-09-01 21:00:00</td>\n",
       "      <td>16.4</td>\n",
       "      <td>NE</td>\n",
       "      <td>7.4</td>\n",
       "      <td>52</td>\n",
       "      <td>20.0</td>\n",
       "      <td>0</td>\n",
       "      <td>1018.9</td>\n",
       "      <td>21960</td>\n",
       "      <td>48255</td>\n",
       "      <td>5104</td>\n",
       "    </tr>\n",
       "    <tr>\n",
       "      <th>3</th>\n",
       "      <td>3</td>\n",
       "      <td>2020-09-01 20:00:00</td>\n",
       "      <td>17.1</td>\n",
       "      <td>NNE</td>\n",
       "      <td>7.4</td>\n",
       "      <td>49</td>\n",
       "      <td>20.0</td>\n",
       "      <td>0</td>\n",
       "      <td>1018.5</td>\n",
       "      <td>21960</td>\n",
       "      <td>48255</td>\n",
       "      <td>5104</td>\n",
       "    </tr>\n",
       "    <tr>\n",
       "      <th>4</th>\n",
       "      <td>4</td>\n",
       "      <td>2020-09-01 19:00:00</td>\n",
       "      <td>18.5</td>\n",
       "      <td>NNE</td>\n",
       "      <td>5.6</td>\n",
       "      <td>46</td>\n",
       "      <td>20.0</td>\n",
       "      <td>0</td>\n",
       "      <td>1017.9</td>\n",
       "      <td>21960</td>\n",
       "      <td>48255</td>\n",
       "      <td>5104</td>\n",
       "    </tr>\n",
       "  </tbody>\n",
       "</table>\n",
       "</div>"
      ],
      "text/plain": [
       "   Unnamed: 0                date  Temperature (C) wind_dir  wind_speed  \\\n",
       "0           0 2020-09-01 23:00:00             14.9      NNE         5.6   \n",
       "1           1 2020-09-01 22:00:00             15.2      NNE         5.6   \n",
       "2           2 2020-09-01 21:00:00             16.4       NE         7.4   \n",
       "3           3 2020-09-01 20:00:00             17.1      NNE         7.4   \n",
       "4           4 2020-09-01 19:00:00             18.5      NNE         5.6   \n",
       "\n",
       "   Humidity  Visibility  Precipitation  pressure1  sunshine_time  suntime  \\\n",
       "0        63        20.0              0     1019.1          21960    48255   \n",
       "1        59        20.0              0     1019.0          21960    48255   \n",
       "2        52        20.0              0     1018.9          21960    48255   \n",
       "3        49        20.0              0     1018.5          21960    48255   \n",
       "4        46        20.0              0     1017.9          21960    48255   \n",
       "\n",
       "   new_cases  \n",
       "0       5104  \n",
       "1       5104  \n",
       "2       5104  \n",
       "3       5104  \n",
       "4       5104  "
      ]
     },
     "execution_count": 154,
     "metadata": {},
     "output_type": "execute_result"
    }
   ],
   "source": [
    "df.head()"
   ]
  },
  {
   "cell_type": "code",
   "execution_count": 155,
   "id": "5f54bf79-b7c0-4d4d-a632-2255f3f80a71",
   "metadata": {},
   "outputs": [
    {
     "data": {
      "text/html": [
       "<div>\n",
       "<style scoped>\n",
       "    .dataframe tbody tr th:only-of-type {\n",
       "        vertical-align: middle;\n",
       "    }\n",
       "\n",
       "    .dataframe tbody tr th {\n",
       "        vertical-align: top;\n",
       "    }\n",
       "\n",
       "    .dataframe thead th {\n",
       "        text-align: right;\n",
       "    }\n",
       "</style>\n",
       "<table border=\"1\" class=\"dataframe\">\n",
       "  <thead>\n",
       "    <tr style=\"text-align: right;\">\n",
       "      <th></th>\n",
       "      <th>Unnamed: 0</th>\n",
       "      <th>date</th>\n",
       "      <th>Temperature (C)</th>\n",
       "      <th>wind_dir</th>\n",
       "      <th>wind_speed</th>\n",
       "      <th>Humidity</th>\n",
       "      <th>Visibility</th>\n",
       "      <th>Precipitation</th>\n",
       "      <th>pressure1</th>\n",
       "      <th>sunshine_time</th>\n",
       "      <th>suntime</th>\n",
       "      <th>date_only</th>\n",
       "      <th>new_cases</th>\n",
       "    </tr>\n",
       "  </thead>\n",
       "  <tbody>\n",
       "    <tr>\n",
       "      <th>0</th>\n",
       "      <td>0</td>\n",
       "      <td>2020-09-01 23:00:00</td>\n",
       "      <td>14.9</td>\n",
       "      <td>NNE</td>\n",
       "      <td>5.6</td>\n",
       "      <td>63.0</td>\n",
       "      <td>20.0</td>\n",
       "      <td>0</td>\n",
       "      <td>1019.1</td>\n",
       "      <td>21960.0</td>\n",
       "      <td>48255.0</td>\n",
       "      <td>2020-09-01</td>\n",
       "      <td>5104.0</td>\n",
       "    </tr>\n",
       "    <tr>\n",
       "      <th>1</th>\n",
       "      <td>1</td>\n",
       "      <td>2020-09-01 22:00:00</td>\n",
       "      <td>15.2</td>\n",
       "      <td>NNE</td>\n",
       "      <td>5.6</td>\n",
       "      <td>59.0</td>\n",
       "      <td>20.0</td>\n",
       "      <td>0</td>\n",
       "      <td>1019.0</td>\n",
       "      <td>21960.0</td>\n",
       "      <td>48255.0</td>\n",
       "      <td>2020-09-01</td>\n",
       "      <td>5104.0</td>\n",
       "    </tr>\n",
       "    <tr>\n",
       "      <th>2</th>\n",
       "      <td>2</td>\n",
       "      <td>2020-09-01 21:00:00</td>\n",
       "      <td>16.4</td>\n",
       "      <td>NE</td>\n",
       "      <td>7.4</td>\n",
       "      <td>52.0</td>\n",
       "      <td>20.0</td>\n",
       "      <td>0</td>\n",
       "      <td>1018.9</td>\n",
       "      <td>21960.0</td>\n",
       "      <td>48255.0</td>\n",
       "      <td>2020-09-01</td>\n",
       "      <td>5104.0</td>\n",
       "    </tr>\n",
       "    <tr>\n",
       "      <th>3</th>\n",
       "      <td>3</td>\n",
       "      <td>2020-09-01 20:00:00</td>\n",
       "      <td>17.1</td>\n",
       "      <td>NNE</td>\n",
       "      <td>7.4</td>\n",
       "      <td>49.0</td>\n",
       "      <td>20.0</td>\n",
       "      <td>0</td>\n",
       "      <td>1018.5</td>\n",
       "      <td>21960.0</td>\n",
       "      <td>48255.0</td>\n",
       "      <td>2020-09-01</td>\n",
       "      <td>5104.0</td>\n",
       "    </tr>\n",
       "    <tr>\n",
       "      <th>4</th>\n",
       "      <td>4</td>\n",
       "      <td>2020-09-01 19:00:00</td>\n",
       "      <td>18.5</td>\n",
       "      <td>NNE</td>\n",
       "      <td>5.6</td>\n",
       "      <td>46.0</td>\n",
       "      <td>20.0</td>\n",
       "      <td>0</td>\n",
       "      <td>1017.9</td>\n",
       "      <td>21960.0</td>\n",
       "      <td>48255.0</td>\n",
       "      <td>2020-09-01</td>\n",
       "      <td>5104.0</td>\n",
       "    </tr>\n",
       "  </tbody>\n",
       "</table>\n",
       "</div>"
      ],
      "text/plain": [
       "   Unnamed: 0                date  Temperature (C) wind_dir  wind_speed  \\\n",
       "0           0 2020-09-01 23:00:00             14.9      NNE         5.6   \n",
       "1           1 2020-09-01 22:00:00             15.2      NNE         5.6   \n",
       "2           2 2020-09-01 21:00:00             16.4       NE         7.4   \n",
       "3           3 2020-09-01 20:00:00             17.1      NNE         7.4   \n",
       "4           4 2020-09-01 19:00:00             18.5      NNE         5.6   \n",
       "\n",
       "   Humidity  Visibility  Precipitation  pressure1  sunshine_time  suntime  \\\n",
       "0      63.0        20.0              0     1019.1        21960.0  48255.0   \n",
       "1      59.0        20.0              0     1019.0        21960.0  48255.0   \n",
       "2      52.0        20.0              0     1018.9        21960.0  48255.0   \n",
       "3      49.0        20.0              0     1018.5        21960.0  48255.0   \n",
       "4      46.0        20.0              0     1017.9        21960.0  48255.0   \n",
       "\n",
       "    date_only  new_cases  \n",
       "0  2020-09-01     5104.0  \n",
       "1  2020-09-01     5104.0  \n",
       "2  2020-09-01     5104.0  \n",
       "3  2020-09-01     5104.0  \n",
       "4  2020-09-01     5104.0  "
      ]
     },
     "execution_count": 155,
     "metadata": {},
     "output_type": "execute_result"
    }
   ],
   "source": [
    "df2.head()"
   ]
  },
  {
   "cell_type": "code",
   "execution_count": 156,
   "id": "797148cc-06c8-46bc-8135-7b053ff37b0b",
   "metadata": {},
   "outputs": [
    {
     "data": {
      "text/plain": [
       "((11557, 13), (11554, 12))"
      ]
     },
     "execution_count": 156,
     "metadata": {},
     "output_type": "execute_result"
    }
   ],
   "source": [
    "df2.shape, df.shape"
   ]
  },
  {
   "cell_type": "code",
   "execution_count": 157,
   "id": "df9647b4-1ecf-4d35-9069-111af514a1a1",
   "metadata": {},
   "outputs": [
    {
     "name": "stdout",
     "output_type": "stream",
     "text": [
      "(11557,) (11554,)\n",
      "(11554,) (11554,)\n"
     ]
    }
   ],
   "source": [
    "print(df2.date.shape, df2.date.unique().shape)\n",
    "df2 = df2.loc[~df2.date.duplicated(),:]\n",
    "print(df2.date.shape, df2.date.unique().shape)\n"
   ]
  },
  {
   "cell_type": "code",
   "execution_count": 160,
   "id": "e90ffda5-e4e7-4a79-b969-eef76e46f217",
   "metadata": {},
   "outputs": [
    {
     "data": {
      "text/plain": [
       "2020-09-01    0\n",
       "2020-09-02    0\n",
       "2020-09-03    0\n",
       "2020-09-04    0\n",
       "2020-09-05    0\n",
       "             ..\n",
       "2021-12-27    0\n",
       "2021-12-28    0\n",
       "2021-12-29    0\n",
       "2021-12-30    0\n",
       "2021-12-31    0\n",
       "Name: holidays2, Length: 485, dtype: int32"
      ]
     },
     "execution_count": 160,
     "metadata": {},
     "output_type": "execute_result"
    }
   ],
   "source": [
    "import holidays\n",
    "holidays2 = holidays.country_holidays('FR')\n",
    "holidays2 = pd.Series([i in holidays2 for i in df.date.dt.date.unique()],\n",
    "                    index=pd.to_datetime(df.date.dt.date.unique()),\n",
    "                    name=\"holidays2\").astype(\"int\")\n",
    "holidays2"
   ]
  },
  {
   "cell_type": "code",
   "execution_count": 161,
   "id": "18d874f5-56bd-4268-bcb6-e2049f8b6bc2",
   "metadata": {},
   "outputs": [
    {
     "data": {
      "text/html": [
       "<div>\n",
       "<style scoped>\n",
       "    .dataframe tbody tr th:only-of-type {\n",
       "        vertical-align: middle;\n",
       "    }\n",
       "\n",
       "    .dataframe tbody tr th {\n",
       "        vertical-align: top;\n",
       "    }\n",
       "\n",
       "    .dataframe thead th {\n",
       "        text-align: right;\n",
       "    }\n",
       "</style>\n",
       "<table border=\"1\" class=\"dataframe\">\n",
       "  <thead>\n",
       "    <tr style=\"text-align: right;\">\n",
       "      <th></th>\n",
       "      <th>Unnamed: 0</th>\n",
       "      <th>date</th>\n",
       "      <th>Temperature (C)</th>\n",
       "      <th>wind_dir</th>\n",
       "      <th>wind_speed</th>\n",
       "      <th>Humidity</th>\n",
       "      <th>Visibility</th>\n",
       "      <th>Precipitation</th>\n",
       "      <th>pressure1</th>\n",
       "      <th>sunshine_time</th>\n",
       "      <th>suntime</th>\n",
       "      <th>new_cases</th>\n",
       "      <th>holidays2</th>\n",
       "    </tr>\n",
       "  </thead>\n",
       "  <tbody>\n",
       "    <tr>\n",
       "      <th>0</th>\n",
       "      <td>0</td>\n",
       "      <td>2020-09-01 23:00:00</td>\n",
       "      <td>14.9</td>\n",
       "      <td>NNE</td>\n",
       "      <td>5.6</td>\n",
       "      <td>63</td>\n",
       "      <td>20.0</td>\n",
       "      <td>0</td>\n",
       "      <td>1019.1</td>\n",
       "      <td>21960</td>\n",
       "      <td>48255</td>\n",
       "      <td>5104</td>\n",
       "      <td>0</td>\n",
       "    </tr>\n",
       "    <tr>\n",
       "      <th>1</th>\n",
       "      <td>1</td>\n",
       "      <td>2020-09-01 22:00:00</td>\n",
       "      <td>15.2</td>\n",
       "      <td>NNE</td>\n",
       "      <td>5.6</td>\n",
       "      <td>59</td>\n",
       "      <td>20.0</td>\n",
       "      <td>0</td>\n",
       "      <td>1019.0</td>\n",
       "      <td>21960</td>\n",
       "      <td>48255</td>\n",
       "      <td>5104</td>\n",
       "      <td>0</td>\n",
       "    </tr>\n",
       "    <tr>\n",
       "      <th>2</th>\n",
       "      <td>2</td>\n",
       "      <td>2020-09-01 21:00:00</td>\n",
       "      <td>16.4</td>\n",
       "      <td>NE</td>\n",
       "      <td>7.4</td>\n",
       "      <td>52</td>\n",
       "      <td>20.0</td>\n",
       "      <td>0</td>\n",
       "      <td>1018.9</td>\n",
       "      <td>21960</td>\n",
       "      <td>48255</td>\n",
       "      <td>5104</td>\n",
       "      <td>0</td>\n",
       "    </tr>\n",
       "    <tr>\n",
       "      <th>3</th>\n",
       "      <td>3</td>\n",
       "      <td>2020-09-01 20:00:00</td>\n",
       "      <td>17.1</td>\n",
       "      <td>NNE</td>\n",
       "      <td>7.4</td>\n",
       "      <td>49</td>\n",
       "      <td>20.0</td>\n",
       "      <td>0</td>\n",
       "      <td>1018.5</td>\n",
       "      <td>21960</td>\n",
       "      <td>48255</td>\n",
       "      <td>5104</td>\n",
       "      <td>0</td>\n",
       "    </tr>\n",
       "    <tr>\n",
       "      <th>4</th>\n",
       "      <td>4</td>\n",
       "      <td>2020-09-01 19:00:00</td>\n",
       "      <td>18.5</td>\n",
       "      <td>NNE</td>\n",
       "      <td>5.6</td>\n",
       "      <td>46</td>\n",
       "      <td>20.0</td>\n",
       "      <td>0</td>\n",
       "      <td>1017.9</td>\n",
       "      <td>21960</td>\n",
       "      <td>48255</td>\n",
       "      <td>5104</td>\n",
       "      <td>0</td>\n",
       "    </tr>\n",
       "  </tbody>\n",
       "</table>\n",
       "</div>"
      ],
      "text/plain": [
       "   Unnamed: 0                date  Temperature (C) wind_dir  wind_speed  \\\n",
       "0           0 2020-09-01 23:00:00             14.9      NNE         5.6   \n",
       "1           1 2020-09-01 22:00:00             15.2      NNE         5.6   \n",
       "2           2 2020-09-01 21:00:00             16.4       NE         7.4   \n",
       "3           3 2020-09-01 20:00:00             17.1      NNE         7.4   \n",
       "4           4 2020-09-01 19:00:00             18.5      NNE         5.6   \n",
       "\n",
       "   Humidity  Visibility  Precipitation  pressure1  sunshine_time  suntime  \\\n",
       "0        63        20.0              0     1019.1          21960    48255   \n",
       "1        59        20.0              0     1019.0          21960    48255   \n",
       "2        52        20.0              0     1018.9          21960    48255   \n",
       "3        49        20.0              0     1018.5          21960    48255   \n",
       "4        46        20.0              0     1017.9          21960    48255   \n",
       "\n",
       "   new_cases  holidays2  \n",
       "0       5104          0  \n",
       "1       5104          0  \n",
       "2       5104          0  \n",
       "3       5104          0  \n",
       "4       5104          0  "
      ]
     },
     "execution_count": 161,
     "metadata": {},
     "output_type": "execute_result"
    }
   ],
   "source": [
    "df2.reset_index(drop=True, inplace=True)\n",
    "df.reset_index(drop=True, inplace=True)\n",
    "df[\"date_only\"] = pd.to_datetime(df2[\"date_only\"]).copy()\n",
    "df = df.join(holidays2, on=\"date_only\", how=\"left\", rsuffix=\"right\")\n",
    "df.drop(\"date_only\", axis=1, inplace=True)\n",
    "df.head()"
   ]
  },
  {
   "cell_type": "code",
   "execution_count": 162,
   "id": "68d04e5b-de2e-4953-a866-38a506bd5a01",
   "metadata": {},
   "outputs": [
    {
     "data": {
      "text/plain": [
       "Unnamed: 0                  int64\n",
       "date               datetime64[ns]\n",
       "Temperature (C)           float64\n",
       "wind_dir                   object\n",
       "wind_speed                float64\n",
       "Humidity                    int64\n",
       "Visibility                float64\n",
       "Precipitation               int64\n",
       "pressure1                 float64\n",
       "sunshine_time               int64\n",
       "suntime                     int64\n",
       "new_cases                   int64\n",
       "holidays2                   int32\n",
       "dtype: object"
      ]
     },
     "execution_count": 162,
     "metadata": {},
     "output_type": "execute_result"
    }
   ],
   "source": [
    "df.dtypes"
   ]
  },
  {
   "cell_type": "code",
   "execution_count": 163,
   "id": "d341854b-d82c-420f-a0c8-8b91033b643d",
   "metadata": {},
   "outputs": [],
   "source": [
    "df.drop(\"Unnamed: 0\", axis=1).to_csv(\"external_data_final.csv\")"
   ]
  }
 ],
 "metadata": {
  "kernelspec": {
   "display_name": "Python 3 (ipykernel)",
   "language": "python",
   "name": "python3"
  },
  "language_info": {
   "codemirror_mode": {
    "name": "ipython",
    "version": 3
   },
   "file_extension": ".py",
   "mimetype": "text/x-python",
   "name": "python",
   "nbconvert_exporter": "python",
   "pygments_lexer": "ipython3",
   "version": "3.9.12"
  }
 },
 "nbformat": 4,
 "nbformat_minor": 5
}
